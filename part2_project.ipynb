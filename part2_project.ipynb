{
 "cells": [
  {
   "cell_type": "markdown",
   "metadata": {},
   "source": [
    "### Part2: Machine Learning Project : Supervised Learning - With Credit Card Data\n",
    "\n",
    "<p>This project consist in apply a machine learning model with supervised learning.</p>\n",
    "\n",
    "* <b>Data from </b>: handson-unsupervised-learning \n",
    "* <b>I'm using a independent enviroment with Python 3.6 version from Anaconda distribution</b>\n",
    "* The libraries needed are:\n",
    "    * tensorflow and keras.\n",
    "    * lightgbm\n",
    "    * fastcluster\n",
    "    * hdbscan\n",
    "    * tslearn\n"
   ]
  },
  {
   "cell_type": "markdown",
   "metadata": {},
   "source": [
    "#### 1.- Overview of the data\n",
    "\n",
    "It's a real dataset of anonymized credit card transactions made by European carholders from September 2013. Are labeled as fraudulent or genuine.\n",
    "\n",
    "There are 28 features, all numerical, no categorial variables. (These features are the result from a Principal Components Analysis). Add three more variables: time of the transaction, the amount of the transaction, and the true class of the transaction: 0 -> genuine; 1 -> fraud\n",
    "\n",
    "* Objective: Build a fraud detection solution."
   ]
  },
  {
   "cell_type": "markdown",
   "metadata": {},
   "source": [
    "#### <b>First Step</b>.- Call for the libraries needed"
   ]
  },
  {
   "cell_type": "code",
   "execution_count": 6,
   "metadata": {},
   "outputs": [],
   "source": [
    "#Libraries\n",
    "    #main\n",
    "import imp\n",
    "from multiprocessing import current_process\n",
    "import numpy as np\n",
    "import pandas as pd\n",
    "import os\n",
    "    #For visualization\n",
    "import matplotlib.pyplot as plt\n",
    "import seaborn as sns\n",
    "color = sns.color_palette()\n",
    "import matplotlib as mpl\n",
    "%matplotlib inline\n",
    "    #data preparation\n",
    "from sklearn import preprocessing as pp\n",
    "from scipy.stats import pearsonr\n",
    "from sklearn.model_selection import train_test_split\n",
    "from sklearn.model_selection import StratifiedKFold\n",
    "from sklearn.metrics import log_loss\n",
    "from sklearn.metrics import precision_recall_curve, average_precision_score\n",
    "from sklearn.metrics import roc_curve,auc, roc_auc_score\n",
    "from sklearn.metrics import confusion_matrix, classification_report\n",
    "    #algorithms\n",
    "from sklearn.linear_model import LogisticRegression\n",
    "from sklearn.ensemble import RandomForestClassifier\n",
    "import xgboost as xgb\n",
    "import lightgbm as lgb"
   ]
  },
  {
   "cell_type": "markdown",
   "metadata": {},
   "source": [
    "#### <b>Second step</b>.- Import the dataset"
   ]
  },
  {
   "cell_type": "code",
   "execution_count": 15,
   "metadata": {},
   "outputs": [
    {
     "name": "stdout",
     "output_type": "stream",
     "text": [
      "d:\\OpenBootcamp\\Python\\concepts_for_machine_learning\n"
     ]
    },
    {
     "data": {
      "text/html": [
       "<div>\n",
       "<style scoped>\n",
       "    .dataframe tbody tr th:only-of-type {\n",
       "        vertical-align: middle;\n",
       "    }\n",
       "\n",
       "    .dataframe tbody tr th {\n",
       "        vertical-align: top;\n",
       "    }\n",
       "\n",
       "    .dataframe thead th {\n",
       "        text-align: right;\n",
       "    }\n",
       "</style>\n",
       "<table border=\"1\" class=\"dataframe\">\n",
       "  <thead>\n",
       "    <tr style=\"text-align: right;\">\n",
       "      <th></th>\n",
       "      <th>Time</th>\n",
       "      <th>V1</th>\n",
       "      <th>V2</th>\n",
       "      <th>V3</th>\n",
       "      <th>V4</th>\n",
       "      <th>V5</th>\n",
       "      <th>V6</th>\n",
       "      <th>V7</th>\n",
       "      <th>V8</th>\n",
       "      <th>V9</th>\n",
       "      <th>...</th>\n",
       "      <th>V21</th>\n",
       "      <th>V22</th>\n",
       "      <th>V23</th>\n",
       "      <th>V24</th>\n",
       "      <th>V25</th>\n",
       "      <th>V26</th>\n",
       "      <th>V27</th>\n",
       "      <th>V28</th>\n",
       "      <th>Amount</th>\n",
       "      <th>Class</th>\n",
       "    </tr>\n",
       "  </thead>\n",
       "  <tbody>\n",
       "    <tr>\n",
       "      <th>0</th>\n",
       "      <td>0.0</td>\n",
       "      <td>-1.359807</td>\n",
       "      <td>-0.072781</td>\n",
       "      <td>2.536347</td>\n",
       "      <td>1.378155</td>\n",
       "      <td>-0.338321</td>\n",
       "      <td>0.462388</td>\n",
       "      <td>0.239599</td>\n",
       "      <td>0.098698</td>\n",
       "      <td>0.363787</td>\n",
       "      <td>...</td>\n",
       "      <td>-0.018307</td>\n",
       "      <td>0.277838</td>\n",
       "      <td>-0.110474</td>\n",
       "      <td>0.066928</td>\n",
       "      <td>0.128539</td>\n",
       "      <td>-0.189115</td>\n",
       "      <td>0.133558</td>\n",
       "      <td>-0.021053</td>\n",
       "      <td>149.62</td>\n",
       "      <td>0</td>\n",
       "    </tr>\n",
       "    <tr>\n",
       "      <th>1</th>\n",
       "      <td>0.0</td>\n",
       "      <td>1.191857</td>\n",
       "      <td>0.266151</td>\n",
       "      <td>0.166480</td>\n",
       "      <td>0.448154</td>\n",
       "      <td>0.060018</td>\n",
       "      <td>-0.082361</td>\n",
       "      <td>-0.078803</td>\n",
       "      <td>0.085102</td>\n",
       "      <td>-0.255425</td>\n",
       "      <td>...</td>\n",
       "      <td>-0.225775</td>\n",
       "      <td>-0.638672</td>\n",
       "      <td>0.101288</td>\n",
       "      <td>-0.339846</td>\n",
       "      <td>0.167170</td>\n",
       "      <td>0.125895</td>\n",
       "      <td>-0.008983</td>\n",
       "      <td>0.014724</td>\n",
       "      <td>2.69</td>\n",
       "      <td>0</td>\n",
       "    </tr>\n",
       "    <tr>\n",
       "      <th>2</th>\n",
       "      <td>1.0</td>\n",
       "      <td>-1.358354</td>\n",
       "      <td>-1.340163</td>\n",
       "      <td>1.773209</td>\n",
       "      <td>0.379780</td>\n",
       "      <td>-0.503198</td>\n",
       "      <td>1.800499</td>\n",
       "      <td>0.791461</td>\n",
       "      <td>0.247676</td>\n",
       "      <td>-1.514654</td>\n",
       "      <td>...</td>\n",
       "      <td>0.247998</td>\n",
       "      <td>0.771679</td>\n",
       "      <td>0.909412</td>\n",
       "      <td>-0.689281</td>\n",
       "      <td>-0.327642</td>\n",
       "      <td>-0.139097</td>\n",
       "      <td>-0.055353</td>\n",
       "      <td>-0.059752</td>\n",
       "      <td>378.66</td>\n",
       "      <td>0</td>\n",
       "    </tr>\n",
       "    <tr>\n",
       "      <th>3</th>\n",
       "      <td>1.0</td>\n",
       "      <td>-0.966272</td>\n",
       "      <td>-0.185226</td>\n",
       "      <td>1.792993</td>\n",
       "      <td>-0.863291</td>\n",
       "      <td>-0.010309</td>\n",
       "      <td>1.247203</td>\n",
       "      <td>0.237609</td>\n",
       "      <td>0.377436</td>\n",
       "      <td>-1.387024</td>\n",
       "      <td>...</td>\n",
       "      <td>-0.108300</td>\n",
       "      <td>0.005274</td>\n",
       "      <td>-0.190321</td>\n",
       "      <td>-1.175575</td>\n",
       "      <td>0.647376</td>\n",
       "      <td>-0.221929</td>\n",
       "      <td>0.062723</td>\n",
       "      <td>0.061458</td>\n",
       "      <td>123.50</td>\n",
       "      <td>0</td>\n",
       "    </tr>\n",
       "    <tr>\n",
       "      <th>4</th>\n",
       "      <td>2.0</td>\n",
       "      <td>-1.158233</td>\n",
       "      <td>0.877737</td>\n",
       "      <td>1.548718</td>\n",
       "      <td>0.403034</td>\n",
       "      <td>-0.407193</td>\n",
       "      <td>0.095921</td>\n",
       "      <td>0.592941</td>\n",
       "      <td>-0.270533</td>\n",
       "      <td>0.817739</td>\n",
       "      <td>...</td>\n",
       "      <td>-0.009431</td>\n",
       "      <td>0.798278</td>\n",
       "      <td>-0.137458</td>\n",
       "      <td>0.141267</td>\n",
       "      <td>-0.206010</td>\n",
       "      <td>0.502292</td>\n",
       "      <td>0.219422</td>\n",
       "      <td>0.215153</td>\n",
       "      <td>69.99</td>\n",
       "      <td>0</td>\n",
       "    </tr>\n",
       "  </tbody>\n",
       "</table>\n",
       "<p>5 rows × 31 columns</p>\n",
       "</div>"
      ],
      "text/plain": [
       "   Time        V1        V2        V3        V4        V5        V6        V7  \\\n",
       "0   0.0 -1.359807 -0.072781  2.536347  1.378155 -0.338321  0.462388  0.239599   \n",
       "1   0.0  1.191857  0.266151  0.166480  0.448154  0.060018 -0.082361 -0.078803   \n",
       "2   1.0 -1.358354 -1.340163  1.773209  0.379780 -0.503198  1.800499  0.791461   \n",
       "3   1.0 -0.966272 -0.185226  1.792993 -0.863291 -0.010309  1.247203  0.237609   \n",
       "4   2.0 -1.158233  0.877737  1.548718  0.403034 -0.407193  0.095921  0.592941   \n",
       "\n",
       "         V8        V9  ...       V21       V22       V23       V24       V25  \\\n",
       "0  0.098698  0.363787  ... -0.018307  0.277838 -0.110474  0.066928  0.128539   \n",
       "1  0.085102 -0.255425  ... -0.225775 -0.638672  0.101288 -0.339846  0.167170   \n",
       "2  0.247676 -1.514654  ...  0.247998  0.771679  0.909412 -0.689281 -0.327642   \n",
       "3  0.377436 -1.387024  ... -0.108300  0.005274 -0.190321 -1.175575  0.647376   \n",
       "4 -0.270533  0.817739  ... -0.009431  0.798278 -0.137458  0.141267 -0.206010   \n",
       "\n",
       "        V26       V27       V28  Amount  Class  \n",
       "0 -0.189115  0.133558 -0.021053  149.62      0  \n",
       "1  0.125895 -0.008983  0.014724    2.69      0  \n",
       "2 -0.139097 -0.055353 -0.059752  378.66      0  \n",
       "3 -0.221929  0.062723  0.061458  123.50      0  \n",
       "4  0.502292  0.219422  0.215153   69.99      0  \n",
       "\n",
       "[5 rows x 31 columns]"
      ]
     },
     "execution_count": 15,
     "metadata": {},
     "output_type": "execute_result"
    }
   ],
   "source": [
    "# Data Acquisition\n",
    "\n",
    "    # Read the data \n",
    "current_path = os.getcwd()\n",
    "print(current_path)\n",
    "file =\"\\datasets\\credit_card_data\\credit_card.csv\"\n",
    "data = pd.read_csv(current_path+file)\n",
    "\n",
    "data.head()\n",
    "\n",
    "\n"
   ]
  },
  {
   "cell_type": "markdown",
   "metadata": {},
   "source": [
    "#### <b>Third step</b> .- Data Exploration\n",
    "\n",
    "Be noted that the 28 numerical features are not standardized yet. "
   ]
  },
  {
   "cell_type": "code",
   "execution_count": 18,
   "metadata": {},
   "outputs": [
    {
     "data": {
      "text/plain": [
       "492"
      ]
     },
     "execution_count": 18,
     "metadata": {},
     "output_type": "execute_result"
    }
   ],
   "source": [
    "# Summary of Statistics\n",
    "data.describe()\n",
    "data.columns\n",
    "data['Class'].sum() #The total number of positive labels or fraudulent transactions is 492\n"
   ]
  },
  {
   "cell_type": "markdown",
   "metadata": {},
   "source": [
    "#### <b>Fourth</b>.- Identify nonnumerical values by feature\n",
    "\n",
    "These can be NaNs or \"Not a Number\". If there is an missing value we can impute the value replacing them with the mean, median or mode. "
   ]
  },
  {
   "cell_type": "code",
   "execution_count": 19,
   "metadata": {},
   "outputs": [
    {
     "name": "stdout",
     "output_type": "stream",
     "text": [
      "Time      0\n",
      "V1        0\n",
      "V2        0\n",
      "V3        0\n",
      "V4        0\n",
      "V5        0\n",
      "V6        0\n",
      "V7        0\n",
      "V8        0\n",
      "V9        0\n",
      "V10       0\n",
      "V11       0\n",
      "V12       0\n",
      "V13       0\n",
      "V14       0\n",
      "V15       0\n",
      "V16       0\n",
      "V17       0\n",
      "V18       0\n",
      "V19       0\n",
      "V20       0\n",
      "V21       0\n",
      "V22       0\n",
      "V23       0\n",
      "V24       0\n",
      "V25       0\n",
      "V26       0\n",
      "V27       0\n",
      "V28       0\n",
      "Amount    0\n",
      "Class     0\n",
      "dtype: int64\n"
     ]
    }
   ],
   "source": [
    "#To know NaNs\n",
    "nanCounter = np.isnan(data).sum()\n",
    "print(nanCounter) # There are not any missing value"
   ]
  },
  {
   "cell_type": "markdown",
   "metadata": {},
   "source": [
    "#### <b>Fifth</b>.- Identify distinct values by feature"
   ]
  },
  {
   "cell_type": "code",
   "execution_count": 20,
   "metadata": {},
   "outputs": [
    {
     "name": "stdout",
     "output_type": "stream",
     "text": [
      "Time      124592\n",
      "V1        275663\n",
      "V2        275663\n",
      "V3        275663\n",
      "V4        275663\n",
      "V5        275663\n",
      "V6        275663\n",
      "V7        275663\n",
      "V8        275663\n",
      "V9        275663\n",
      "V10       275663\n",
      "V11       275663\n",
      "V12       275663\n",
      "V13       275663\n",
      "V14       275663\n",
      "V15       275663\n",
      "V16       275663\n",
      "V17       275663\n",
      "V18       275663\n",
      "V19       275663\n",
      "V20       275663\n",
      "V21       275663\n",
      "V22       275663\n",
      "V23       275663\n",
      "V24       275663\n",
      "V25       275663\n",
      "V26       275663\n",
      "V27       275663\n",
      "V28       275663\n",
      "Amount     32767\n",
      "Class          2\n",
      "dtype: int64\n"
     ]
    }
   ],
   "source": [
    "# Distinct Values\n",
    "distinctCounter = data.apply(lambda x: len(x.unique()))\n",
    "print(distinctCounter)"
   ]
  },
  {
   "cell_type": "markdown",
   "metadata": {},
   "source": [
    "#### <b>Sixth</b>.- Generate Feature Matrix and Labels Array\n",
    "\n",
    "This will later be used in the training process. "
   ]
  },
  {
   "cell_type": "code",
   "execution_count": 23,
   "metadata": {},
   "outputs": [
    {
     "name": "stdout",
     "output_type": "stream",
     "text": [
      "0         0\n",
      "1         0\n",
      "2         0\n",
      "3         0\n",
      "4         0\n",
      "         ..\n",
      "284802    0\n",
      "284803    0\n",
      "284804    0\n",
      "284805    0\n",
      "284806    0\n",
      "Name: Class, Length: 284807, dtype: int64\n"
     ]
    }
   ],
   "source": [
    "#Create the feauture matrix X and the labels array Y\n",
    "dataX = data.copy ().drop(['Class'], axis=1)\n",
    "dataY = data['Class'].copy()"
   ]
  },
  {
   "cell_type": "markdown",
   "metadata": {},
   "source": [
    "#### <b>Seventh</b>.- Standarize the feature matrix X\n",
    "\n",
    "Rescale the feature so that each feature, except for time, has a mean of zero and standard deviation of one.\n",
    "\n"
   ]
  },
  {
   "cell_type": "code",
   "execution_count": 28,
   "metadata": {},
   "outputs": [
    {
     "data": {
      "text/html": [
       "<div>\n",
       "<style scoped>\n",
       "    .dataframe tbody tr th:only-of-type {\n",
       "        vertical-align: middle;\n",
       "    }\n",
       "\n",
       "    .dataframe tbody tr th {\n",
       "        vertical-align: top;\n",
       "    }\n",
       "\n",
       "    .dataframe thead th {\n",
       "        text-align: right;\n",
       "    }\n",
       "</style>\n",
       "<table border=\"1\" class=\"dataframe\">\n",
       "  <thead>\n",
       "    <tr style=\"text-align: right;\">\n",
       "      <th></th>\n",
       "      <th>Time</th>\n",
       "      <th>V1</th>\n",
       "      <th>V2</th>\n",
       "      <th>V3</th>\n",
       "      <th>V4</th>\n",
       "      <th>V5</th>\n",
       "      <th>V6</th>\n",
       "      <th>V7</th>\n",
       "      <th>V8</th>\n",
       "      <th>V9</th>\n",
       "      <th>...</th>\n",
       "      <th>V20</th>\n",
       "      <th>V21</th>\n",
       "      <th>V22</th>\n",
       "      <th>V23</th>\n",
       "      <th>V24</th>\n",
       "      <th>V25</th>\n",
       "      <th>V26</th>\n",
       "      <th>V27</th>\n",
       "      <th>V28</th>\n",
       "      <th>Amount</th>\n",
       "    </tr>\n",
       "  </thead>\n",
       "  <tbody>\n",
       "    <tr>\n",
       "      <th>count</th>\n",
       "      <td>284807.000000</td>\n",
       "      <td>2.848070e+05</td>\n",
       "      <td>2.848070e+05</td>\n",
       "      <td>2.848070e+05</td>\n",
       "      <td>2.848070e+05</td>\n",
       "      <td>2.848070e+05</td>\n",
       "      <td>2.848070e+05</td>\n",
       "      <td>2.848070e+05</td>\n",
       "      <td>2.848070e+05</td>\n",
       "      <td>2.848070e+05</td>\n",
       "      <td>...</td>\n",
       "      <td>2.848070e+05</td>\n",
       "      <td>2.848070e+05</td>\n",
       "      <td>2.848070e+05</td>\n",
       "      <td>2.848070e+05</td>\n",
       "      <td>2.848070e+05</td>\n",
       "      <td>2.848070e+05</td>\n",
       "      <td>2.848070e+05</td>\n",
       "      <td>2.848070e+05</td>\n",
       "      <td>2.848070e+05</td>\n",
       "      <td>2.848070e+05</td>\n",
       "    </tr>\n",
       "    <tr>\n",
       "      <th>mean</th>\n",
       "      <td>94813.859575</td>\n",
       "      <td>-7.891669e-16</td>\n",
       "      <td>5.279862e-17</td>\n",
       "      <td>-4.444860e-15</td>\n",
       "      <td>-6.662098e-16</td>\n",
       "      <td>-3.231256e-16</td>\n",
       "      <td>4.052101e-16</td>\n",
       "      <td>-9.012482e-16</td>\n",
       "      <td>-2.413054e-16</td>\n",
       "      <td>2.580408e-16</td>\n",
       "      <td>...</td>\n",
       "      <td>2.662916e-16</td>\n",
       "      <td>2.822735e-17</td>\n",
       "      <td>1.494373e-15</td>\n",
       "      <td>-6.977186e-16</td>\n",
       "      <td>1.031447e-16</td>\n",
       "      <td>-7.187979e-16</td>\n",
       "      <td>3.380312e-16</td>\n",
       "      <td>-2.454914e-18</td>\n",
       "      <td>5.735749e-17</td>\n",
       "      <td>2.728006e-16</td>\n",
       "    </tr>\n",
       "    <tr>\n",
       "      <th>std</th>\n",
       "      <td>47488.145955</td>\n",
       "      <td>1.000002e+00</td>\n",
       "      <td>1.000002e+00</td>\n",
       "      <td>1.000002e+00</td>\n",
       "      <td>1.000002e+00</td>\n",
       "      <td>1.000002e+00</td>\n",
       "      <td>1.000002e+00</td>\n",
       "      <td>1.000002e+00</td>\n",
       "      <td>1.000002e+00</td>\n",
       "      <td>1.000002e+00</td>\n",
       "      <td>...</td>\n",
       "      <td>1.000002e+00</td>\n",
       "      <td>1.000002e+00</td>\n",
       "      <td>1.000002e+00</td>\n",
       "      <td>1.000002e+00</td>\n",
       "      <td>1.000002e+00</td>\n",
       "      <td>1.000002e+00</td>\n",
       "      <td>1.000002e+00</td>\n",
       "      <td>1.000002e+00</td>\n",
       "      <td>1.000002e+00</td>\n",
       "      <td>1.000002e+00</td>\n",
       "    </tr>\n",
       "    <tr>\n",
       "      <th>min</th>\n",
       "      <td>0.000000</td>\n",
       "      <td>-2.879855e+01</td>\n",
       "      <td>-4.403529e+01</td>\n",
       "      <td>-3.187173e+01</td>\n",
       "      <td>-4.013919e+00</td>\n",
       "      <td>-8.240810e+01</td>\n",
       "      <td>-1.963606e+01</td>\n",
       "      <td>-3.520940e+01</td>\n",
       "      <td>-6.130252e+01</td>\n",
       "      <td>-1.222802e+01</td>\n",
       "      <td>...</td>\n",
       "      <td>-7.069146e+01</td>\n",
       "      <td>-4.741907e+01</td>\n",
       "      <td>-1.506565e+01</td>\n",
       "      <td>-7.175446e+01</td>\n",
       "      <td>-4.683638e+00</td>\n",
       "      <td>-1.975033e+01</td>\n",
       "      <td>-5.401098e+00</td>\n",
       "      <td>-5.590660e+01</td>\n",
       "      <td>-4.674612e+01</td>\n",
       "      <td>-3.532294e-01</td>\n",
       "    </tr>\n",
       "    <tr>\n",
       "      <th>25%</th>\n",
       "      <td>54201.500000</td>\n",
       "      <td>-4.698918e-01</td>\n",
       "      <td>-3.624707e-01</td>\n",
       "      <td>-5.872142e-01</td>\n",
       "      <td>-5.993788e-01</td>\n",
       "      <td>-5.010686e-01</td>\n",
       "      <td>-5.766822e-01</td>\n",
       "      <td>-4.478860e-01</td>\n",
       "      <td>-1.746805e-01</td>\n",
       "      <td>-5.853631e-01</td>\n",
       "      <td>...</td>\n",
       "      <td>-2.746334e-01</td>\n",
       "      <td>-3.109433e-01</td>\n",
       "      <td>-7.473476e-01</td>\n",
       "      <td>-2.591784e-01</td>\n",
       "      <td>-5.854676e-01</td>\n",
       "      <td>-6.084001e-01</td>\n",
       "      <td>-6.780717e-01</td>\n",
       "      <td>-1.755053e-01</td>\n",
       "      <td>-1.604440e-01</td>\n",
       "      <td>-3.308401e-01</td>\n",
       "    </tr>\n",
       "    <tr>\n",
       "      <th>50%</th>\n",
       "      <td>84692.000000</td>\n",
       "      <td>9.245351e-03</td>\n",
       "      <td>3.965683e-02</td>\n",
       "      <td>1.186124e-01</td>\n",
       "      <td>-1.401724e-02</td>\n",
       "      <td>-3.936682e-02</td>\n",
       "      <td>-2.058046e-01</td>\n",
       "      <td>3.241723e-02</td>\n",
       "      <td>1.871982e-02</td>\n",
       "      <td>-4.681169e-02</td>\n",
       "      <td>...</td>\n",
       "      <td>-8.104705e-02</td>\n",
       "      <td>-4.009429e-02</td>\n",
       "      <td>9.345377e-03</td>\n",
       "      <td>-1.792420e-02</td>\n",
       "      <td>6.765678e-02</td>\n",
       "      <td>3.183240e-02</td>\n",
       "      <td>-1.081217e-01</td>\n",
       "      <td>3.325174e-03</td>\n",
       "      <td>3.406368e-02</td>\n",
       "      <td>-2.652715e-01</td>\n",
       "    </tr>\n",
       "    <tr>\n",
       "      <th>75%</th>\n",
       "      <td>139320.500000</td>\n",
       "      <td>6.716939e-01</td>\n",
       "      <td>4.867202e-01</td>\n",
       "      <td>6.774569e-01</td>\n",
       "      <td>5.250082e-01</td>\n",
       "      <td>4.433465e-01</td>\n",
       "      <td>2.991625e-01</td>\n",
       "      <td>4.611107e-01</td>\n",
       "      <td>2.740785e-01</td>\n",
       "      <td>5.435305e-01</td>\n",
       "      <td>...</td>\n",
       "      <td>1.725733e-01</td>\n",
       "      <td>2.537392e-01</td>\n",
       "      <td>7.283360e-01</td>\n",
       "      <td>2.364319e-01</td>\n",
       "      <td>7.257153e-01</td>\n",
       "      <td>6.728006e-01</td>\n",
       "      <td>4.996663e-01</td>\n",
       "      <td>2.255648e-01</td>\n",
       "      <td>2.371526e-01</td>\n",
       "      <td>-4.471707e-02</td>\n",
       "    </tr>\n",
       "    <tr>\n",
       "      <th>max</th>\n",
       "      <td>172792.000000</td>\n",
       "      <td>1.253351e+00</td>\n",
       "      <td>1.335775e+01</td>\n",
       "      <td>6.187993e+00</td>\n",
       "      <td>1.191874e+01</td>\n",
       "      <td>2.521413e+01</td>\n",
       "      <td>5.502015e+01</td>\n",
       "      <td>9.747824e+01</td>\n",
       "      <td>1.675153e+01</td>\n",
       "      <td>1.419494e+01</td>\n",
       "      <td>...</td>\n",
       "      <td>5.113464e+01</td>\n",
       "      <td>3.703471e+01</td>\n",
       "      <td>1.447304e+01</td>\n",
       "      <td>3.607668e+01</td>\n",
       "      <td>7.569684e+00</td>\n",
       "      <td>1.442532e+01</td>\n",
       "      <td>7.293975e+00</td>\n",
       "      <td>7.831940e+01</td>\n",
       "      <td>1.025434e+02</td>\n",
       "      <td>1.023622e+02</td>\n",
       "    </tr>\n",
       "  </tbody>\n",
       "</table>\n",
       "<p>8 rows × 30 columns</p>\n",
       "</div>"
      ],
      "text/plain": [
       "                Time            V1            V2            V3            V4  \\\n",
       "count  284807.000000  2.848070e+05  2.848070e+05  2.848070e+05  2.848070e+05   \n",
       "mean    94813.859575 -7.891669e-16  5.279862e-17 -4.444860e-15 -6.662098e-16   \n",
       "std     47488.145955  1.000002e+00  1.000002e+00  1.000002e+00  1.000002e+00   \n",
       "min         0.000000 -2.879855e+01 -4.403529e+01 -3.187173e+01 -4.013919e+00   \n",
       "25%     54201.500000 -4.698918e-01 -3.624707e-01 -5.872142e-01 -5.993788e-01   \n",
       "50%     84692.000000  9.245351e-03  3.965683e-02  1.186124e-01 -1.401724e-02   \n",
       "75%    139320.500000  6.716939e-01  4.867202e-01  6.774569e-01  5.250082e-01   \n",
       "max    172792.000000  1.253351e+00  1.335775e+01  6.187993e+00  1.191874e+01   \n",
       "\n",
       "                 V5            V6            V7            V8            V9  \\\n",
       "count  2.848070e+05  2.848070e+05  2.848070e+05  2.848070e+05  2.848070e+05   \n",
       "mean  -3.231256e-16  4.052101e-16 -9.012482e-16 -2.413054e-16  2.580408e-16   \n",
       "std    1.000002e+00  1.000002e+00  1.000002e+00  1.000002e+00  1.000002e+00   \n",
       "min   -8.240810e+01 -1.963606e+01 -3.520940e+01 -6.130252e+01 -1.222802e+01   \n",
       "25%   -5.010686e-01 -5.766822e-01 -4.478860e-01 -1.746805e-01 -5.853631e-01   \n",
       "50%   -3.936682e-02 -2.058046e-01  3.241723e-02  1.871982e-02 -4.681169e-02   \n",
       "75%    4.433465e-01  2.991625e-01  4.611107e-01  2.740785e-01  5.435305e-01   \n",
       "max    2.521413e+01  5.502015e+01  9.747824e+01  1.675153e+01  1.419494e+01   \n",
       "\n",
       "       ...           V20           V21           V22           V23  \\\n",
       "count  ...  2.848070e+05  2.848070e+05  2.848070e+05  2.848070e+05   \n",
       "mean   ...  2.662916e-16  2.822735e-17  1.494373e-15 -6.977186e-16   \n",
       "std    ...  1.000002e+00  1.000002e+00  1.000002e+00  1.000002e+00   \n",
       "min    ... -7.069146e+01 -4.741907e+01 -1.506565e+01 -7.175446e+01   \n",
       "25%    ... -2.746334e-01 -3.109433e-01 -7.473476e-01 -2.591784e-01   \n",
       "50%    ... -8.104705e-02 -4.009429e-02  9.345377e-03 -1.792420e-02   \n",
       "75%    ...  1.725733e-01  2.537392e-01  7.283360e-01  2.364319e-01   \n",
       "max    ...  5.113464e+01  3.703471e+01  1.447304e+01  3.607668e+01   \n",
       "\n",
       "                V24           V25           V26           V27           V28  \\\n",
       "count  2.848070e+05  2.848070e+05  2.848070e+05  2.848070e+05  2.848070e+05   \n",
       "mean   1.031447e-16 -7.187979e-16  3.380312e-16 -2.454914e-18  5.735749e-17   \n",
       "std    1.000002e+00  1.000002e+00  1.000002e+00  1.000002e+00  1.000002e+00   \n",
       "min   -4.683638e+00 -1.975033e+01 -5.401098e+00 -5.590660e+01 -4.674612e+01   \n",
       "25%   -5.854676e-01 -6.084001e-01 -6.780717e-01 -1.755053e-01 -1.604440e-01   \n",
       "50%    6.765678e-02  3.183240e-02 -1.081217e-01  3.325174e-03  3.406368e-02   \n",
       "75%    7.257153e-01  6.728006e-01  4.996663e-01  2.255648e-01  2.371526e-01   \n",
       "max    7.569684e+00  1.442532e+01  7.293975e+00  7.831940e+01  1.025434e+02   \n",
       "\n",
       "             Amount  \n",
       "count  2.848070e+05  \n",
       "mean   2.728006e-16  \n",
       "std    1.000002e+00  \n",
       "min   -3.532294e-01  \n",
       "25%   -3.308401e-01  \n",
       "50%   -2.652715e-01  \n",
       "75%   -4.471707e-02  \n",
       "max    1.023622e+02  \n",
       "\n",
       "[8 rows x 30 columns]"
      ]
     },
     "execution_count": 28,
     "metadata": {},
     "output_type": "execute_result"
    }
   ],
   "source": [
    "featuresToScale = dataX.drop(['Time'], axis=1).columns\n",
    "sX = pp.StandardScaler(copy=True)\n",
    "dataX.loc[:,featuresToScale] = sX.fit_transform(dataX[featuresToScale])\n",
    "\n",
    "dataX.describe()"
   ]
  },
  {
   "cell_type": "markdown",
   "metadata": {},
   "source": [
    "#### <b>Eighth</b>.- Feature Engineering and Feature Selection\n",
    "\n",
    "Feature Engineering involves creating new features from the original ones to help the machine learning algorithm extract a stronger signal from the dataset. \n",
    "\n",
    "Feature selection involves selecting a subset of the features for training, effectively removing some of the less relevant features from consideration. This may help prevent the machine learning algorithm from overfitting to the noise in the dataset. \n",
    "\n",
    "<b>In this case , we already have the features resulting from the Principal Components Analysis. So the engineering and the selecting won't be done.</b>"
   ]
  },
  {
   "cell_type": "code",
   "execution_count": 33,
   "metadata": {},
   "outputs": [
    {
     "name": "stdout",
     "output_type": "stream",
     "text": [
      "        Time    V1    V2    V3    V4    V5    V6    V7    V8    V9  ...   V20  \\\n",
      "Time     1.0  0.12 -0.01 -0.42 -0.11  0.17 -0.06  0.08 -0.04 -0.01  ... -0.05   \n",
      "V1      0.12   1.0  -0.0  -0.0  -0.0   0.0   0.0  -0.0  -0.0   0.0  ...   0.0   \n",
      "V2     -0.01  -0.0   1.0  -0.0  -0.0   0.0   0.0  -0.0   0.0  -0.0  ...   0.0   \n",
      "V3     -0.42  -0.0  -0.0   1.0  -0.0  -0.0   0.0   0.0  -0.0   0.0  ...   0.0   \n",
      "V4     -0.11  -0.0  -0.0  -0.0   1.0  -0.0  -0.0  -0.0   0.0   0.0  ...  -0.0   \n",
      "V5      0.17   0.0   0.0  -0.0  -0.0   1.0   0.0  -0.0   0.0   0.0  ...  -0.0   \n",
      "V6     -0.06   0.0   0.0   0.0  -0.0   0.0   1.0   0.0  -0.0  -0.0  ...   0.0   \n",
      "V7      0.08  -0.0  -0.0   0.0  -0.0  -0.0   0.0   1.0   0.0  -0.0  ...   0.0   \n",
      "V8     -0.04  -0.0   0.0  -0.0   0.0   0.0  -0.0   0.0   1.0   0.0  ...   0.0   \n",
      "V9     -0.01   0.0  -0.0   0.0   0.0   0.0  -0.0  -0.0   0.0   1.0  ...  -0.0   \n",
      "V10     0.03   0.0  -0.0   0.0  -0.0   0.0   0.0   0.0  -0.0  -0.0  ...  -0.0   \n",
      "V11    -0.25   0.0   0.0   0.0  -0.0   0.0   0.0  -0.0   0.0   0.0  ...  -0.0   \n",
      "V12     0.12   0.0  -0.0   0.0  -0.0   0.0   0.0   0.0   0.0  -0.0  ...   0.0   \n",
      "V13    -0.07  -0.0  -0.0  -0.0   0.0  -0.0  -0.0  -0.0  -0.0   0.0  ...   0.0   \n",
      "V14     -0.1   0.0  -0.0   0.0  -0.0   0.0   0.0   0.0  -0.0   0.0  ...  -0.0   \n",
      "V15    -0.18  -0.0   0.0  -0.0   0.0   0.0  -0.0  -0.0   0.0  -0.0  ...   0.0   \n",
      "V16     0.01   0.0   0.0   0.0  -0.0   0.0  -0.0   0.0   0.0  -0.0  ...   0.0   \n",
      "V17    -0.07  -0.0  -0.0   0.0  -0.0   0.0   0.0   0.0  -0.0   0.0  ...  -0.0   \n",
      "V18     0.09   0.0   0.0   0.0   0.0   0.0   0.0   0.0  -0.0   0.0  ...  -0.0   \n",
      "V19     0.03   0.0  -0.0   0.0  -0.0  -0.0   0.0  -0.0  -0.0   0.0  ...   0.0   \n",
      "V20    -0.05   0.0   0.0   0.0  -0.0  -0.0   0.0   0.0   0.0  -0.0  ...   1.0   \n",
      "V21     0.04  -0.0   0.0  -0.0  -0.0  -0.0  -0.0  -0.0   0.0   0.0  ...  -0.0   \n",
      "V22     0.14   0.0   0.0  -0.0   0.0   0.0  -0.0  -0.0  -0.0  -0.0  ...   0.0   \n",
      "V23     0.05   0.0   0.0  -0.0   0.0   0.0   0.0  -0.0   0.0  -0.0  ...   0.0   \n",
      "V24    -0.02  -0.0  -0.0   0.0   0.0  -0.0  -0.0   0.0  -0.0  -0.0  ...   0.0   \n",
      "V25    -0.23  -0.0   0.0   0.0   0.0  -0.0   0.0  -0.0  -0.0   0.0  ...  -0.0   \n",
      "V26    -0.04  -0.0   0.0  -0.0  -0.0   0.0  -0.0  -0.0  -0.0  -0.0  ...  -0.0   \n",
      "V27    -0.01   0.0  -0.0   0.0  -0.0   0.0  -0.0  -0.0   0.0  -0.0  ...  -0.0   \n",
      "V28    -0.01   0.0  -0.0   0.0  -0.0  -0.0   0.0   0.0  -0.0   0.0  ...  -0.0   \n",
      "Amount -0.01 -0.23 -0.53 -0.21   0.1 -0.39  0.22   0.4  -0.1 -0.04  ...  0.34   \n",
      "\n",
      "         V21   V22   V23   V24   V25   V26   V27   V28 Amount  \n",
      "Time    0.04  0.14  0.05 -0.02 -0.23 -0.04 -0.01 -0.01  -0.01  \n",
      "V1      -0.0   0.0   0.0  -0.0  -0.0  -0.0   0.0   0.0  -0.23  \n",
      "V2       0.0   0.0   0.0  -0.0   0.0   0.0  -0.0  -0.0  -0.53  \n",
      "V3      -0.0  -0.0  -0.0   0.0   0.0  -0.0   0.0   0.0  -0.21  \n",
      "V4      -0.0   0.0   0.0   0.0   0.0  -0.0  -0.0  -0.0    0.1  \n",
      "V5      -0.0   0.0   0.0  -0.0  -0.0   0.0   0.0  -0.0  -0.39  \n",
      "V6      -0.0  -0.0   0.0  -0.0   0.0  -0.0  -0.0   0.0   0.22  \n",
      "V7      -0.0  -0.0  -0.0   0.0  -0.0  -0.0  -0.0   0.0    0.4  \n",
      "V8       0.0  -0.0   0.0  -0.0  -0.0  -0.0   0.0  -0.0   -0.1  \n",
      "V9       0.0  -0.0  -0.0  -0.0   0.0  -0.0  -0.0   0.0  -0.04  \n",
      "V10      0.0  -0.0   0.0  -0.0  -0.0  -0.0  -0.0   0.0   -0.1  \n",
      "V11      0.0   0.0   0.0   0.0  -0.0  -0.0  -0.0  -0.0    0.0  \n",
      "V12      0.0  -0.0   0.0   0.0   0.0   0.0  -0.0   0.0  -0.01  \n",
      "V13      0.0  -0.0  -0.0  -0.0  -0.0  -0.0  -0.0   0.0   0.01  \n",
      "V14     -0.0   0.0   0.0   0.0  -0.0  -0.0   0.0   0.0   0.03  \n",
      "V15      0.0  -0.0   0.0  -0.0   0.0   0.0  -0.0  -0.0   -0.0  \n",
      "V16     -0.0   0.0   0.0  -0.0  -0.0  -0.0   0.0   0.0   -0.0  \n",
      "V17     -0.0  -0.0   0.0  -0.0   0.0   0.0   0.0  -0.0   0.01  \n",
      "V18     -0.0  -0.0  -0.0  -0.0  -0.0   0.0   0.0   0.0   0.04  \n",
      "V19      0.0  -0.0   0.0  -0.0   0.0   0.0  -0.0  -0.0  -0.06  \n",
      "V20     -0.0   0.0   0.0   0.0  -0.0  -0.0  -0.0  -0.0   0.34  \n",
      "V21      1.0   0.0   0.0   0.0  -0.0  -0.0  -0.0   0.0   0.11  \n",
      "V22      0.0   1.0   0.0   0.0  -0.0   0.0   0.0  -0.0  -0.06  \n",
      "V23      0.0   0.0   1.0   0.0  -0.0   0.0   0.0   0.0  -0.11  \n",
      "V24      0.0   0.0   0.0   1.0   0.0   0.0  -0.0  -0.0   0.01  \n",
      "V25     -0.0  -0.0  -0.0   0.0   1.0   0.0  -0.0   0.0  -0.05  \n",
      "V26     -0.0   0.0   0.0   0.0   0.0   1.0  -0.0  -0.0   -0.0  \n",
      "V27     -0.0   0.0   0.0  -0.0  -0.0  -0.0   1.0  -0.0   0.03  \n",
      "V28      0.0  -0.0   0.0  -0.0   0.0  -0.0  -0.0   1.0   0.01  \n",
      "Amount  0.11 -0.06 -0.11  0.01 -0.05  -0.0  0.03  0.01    1.0  \n",
      "\n",
      "[30 rows x 30 columns]\n"
     ]
    }
   ],
   "source": [
    "# We only gonna check the correlation of features\n",
    "correlationMatrix = pd.DataFrame(data=[], index = dataX.columns,\n",
    "                                 columns = dataX.columns)\n",
    "for i in dataX.columns:\n",
    "    for j in dataX.columns:\n",
    "        correlationMatrix.loc[i,j] = np.round(pearsonr(dataX.loc[:,i],\n",
    "                                                       dataX.loc[:,j])[0],2)\n",
    "        \n",
    "print(correlationMatrix)"
   ]
  },
  {
   "cell_type": "markdown",
   "metadata": {},
   "source": [
    "#### <b>Ninth step</b>.- Data Visualization\n",
    "\n",
    "This way we can better visualize the imbalanced the dataset is. Since there are so few cases of fraud(positive cases) to learn from. Fortunately, there are labels for the entire dataset."
   ]
  },
  {
   "cell_type": "code",
   "execution_count": 37,
   "metadata": {},
   "outputs": [
    {
     "data": {
      "text/plain": [
       "Text(0, 0.5, 'Frequency Percentage')"
      ]
     },
     "execution_count": 37,
     "metadata": {},
     "output_type": "execute_result"
    },
    {
     "data": {
      "image/png": "[encoded data removed]",
      "text/plain": [
       "<Figure size 432x288 with 1 Axes>"
      ]
     },
     "metadata": {
      "needs_background": "light"
     },
     "output_type": "display_data"
    }
   ],
   "source": [
    "# Barplot graphic to show number of positive and negative cases are. \n",
    "\n",
    "count_classes = pd.value_counts(data['Class'], sort=True).sort_index()\n",
    "ax = sns.barplot(x=count_classes.index, y=[tuple(count_classes/len(data))[0],tuple(count_classes/len(data))[1]])\n",
    "ax.set_title('Frequency Percentage by Class')\n",
    "ax.set_xlabel('Class')\n",
    "ax.set_ylabel('Frequency Percentage')"
   ]
  },
  {
   "cell_type": "markdown",
   "metadata": {},
   "source": [
    "## Model Preparation\n",
    "#### <b>Step One</b> .- Split into training and Test Sets\n",
    "\n",
    "We now have:\n",
    "* A training set with 190,280 instantes (67% of the original dataset).\n",
    "* A test set with 93,987 instances(33% of the original dataset).\n",
    "* 0.17% of fraud percentage have been stratify for both the training and the test."
   ]
  },
  {
   "cell_type": "code",
   "execution_count": 38,
   "metadata": {},
   "outputs": [],
   "source": [
    "# Split the data in training and test sets\n",
    "X_train, X_test, y_train, y_test = train_test_split(dataX,\n",
    "                                                    dataY, test_size=0.33,\n",
    "                                                    random_state=2018, stratify=dataY)"
   ]
  },
  {
   "cell_type": "markdown",
   "metadata": {},
   "source": [
    "#### <b>Second Step</b> .- Select Cost Function\n",
    "\n",
    "We'll use binary classification log loss. \n",
    "\n",
    "![Ecuation](pictures/binnary_log.png \"Ecuation Binnary Log\")\n",
    "\n",
    "* N -> Number of observations\n",
    "* M -> Numer of class labels"
   ]
  },
  {
   "cell_type": "markdown",
   "metadata": {},
   "source": [
    "#### <b>Third Step</b>.- Create K-Fold Cross-Validation Sets"
   ]
  },
  {
   "cell_type": "code",
   "execution_count": 39,
   "metadata": {},
   "outputs": [],
   "source": [
    "# Where k is 5\n",
    "\n",
    "k_fold = StratifiedKFold(n_splits = 5, shuffle=True, random_state=2018)"
   ]
  },
  {
   "cell_type": "markdown",
   "metadata": {},
   "source": [
    "# <b>Machine Learning Models</b>\n",
    "\n",
    "## <b>Model N° 1</b>: Logistic Regression\n",
    "\n",
    "#### <b>First Step</b>.- Set hyperparameters"
   ]
  },
  {
   "cell_type": "code",
   "execution_count": 41,
   "metadata": {},
   "outputs": [],
   "source": [
    "# Hyperparameters\n",
    "\n",
    "penalty = 'l2' # L2 is the most stable option for this model instead  of the L1. \n",
    "C = 1.0 # C is the regularization strength. The smaller the value, the stronger the regularization.\n",
    "class_weight = 'balanced' #To indicate we have an imbalanced class problem. The weights of the positive labels will be more heavy.\n",
    "random_state = 2018 #set a random state to make it reproducible.\n",
    "solver = 'liblinear'\n",
    "n_jobs = 1\n",
    "\n",
    "logReg = LogisticRegression(penalty=penalty, C=C, \n",
    "            class_weight=class_weight, random_state=random_state, \n",
    "                            solver=solver, n_jobs=n_jobs)"
   ]
  },
  {
   "cell_type": "markdown",
   "metadata": {},
   "source": [
    "#### <b>Second Step</b>.- Train the model"
   ]
  },
  {
   "cell_type": "code",
   "execution_count": 42,
   "metadata": {},
   "outputs": [
    {
     "name": "stdout",
     "output_type": "stream",
     "text": [
      "Training Log Loss:  0.10966432575191984\n",
      "CV Log Loss:  0.10878917064684794\n",
      "Training Log Loss:  0.10459171161510084\n",
      "CV Log Loss:  0.10405418089351479\n",
      "Training Log Loss:  0.11541962721808012\n",
      "CV Log Loss:  0.11768428439354854\n",
      "Training Log Loss:  0.11559214593681948\n",
      "CV Log Loss:  0.11817690292867107\n",
      "Training Log Loss:  0.09708261631063324\n",
      "CV Log Loss:  0.09696319572687945\n",
      "Logistic Regression Log Loss:  0.10913354691789236\n"
     ]
    }
   ],
   "source": [
    "trainingScores = []\n",
    "cvScores = []\n",
    "predictionsBasedOnKFolds = pd.DataFrame(data=[],\n",
    "                                        index=y_train.index,columns=[0,1])\n",
    "\n",
    "model = logReg\n",
    "\n",
    "for train_index, cv_index in k_fold.split(np.zeros(len(X_train))\n",
    "                                          ,y_train.ravel()):\n",
    "    X_train_fold, X_cv_fold = X_train.iloc[train_index,:], \\\n",
    "        X_train.iloc[cv_index,:]\n",
    "    y_train_fold, y_cv_fold = y_train.iloc[train_index], \\\n",
    "        y_train.iloc[cv_index]\n",
    "    \n",
    "    model.fit(X_train_fold, y_train_fold)\n",
    "    loglossTraining = log_loss(y_train_fold, \n",
    "                               model.predict_proba(X_train_fold)[:,1])\n",
    "    trainingScores.append(loglossTraining)\n",
    "    \n",
    "    predictionsBasedOnKFolds.loc[X_cv_fold.index,:] = \\\n",
    "        model.predict_proba(X_cv_fold)  \n",
    "    loglossCV = log_loss(y_cv_fold, \n",
    "                         predictionsBasedOnKFolds.loc[X_cv_fold.index,1])\n",
    "    cvScores.append(loglossCV)\n",
    "    \n",
    "    print('Training Log Loss: ', loglossTraining)\n",
    "    print('CV Log Loss: ', loglossCV)\n",
    "    \n",
    "loglossLogisticRegression = log_loss(y_train, \n",
    "                                     predictionsBasedOnKFolds.loc[:,1])\n",
    "print('Logistic Regression Log Loss: ', loglossLogisticRegression)"
   ]
  },
  {
   "cell_type": "markdown",
   "metadata": {},
   "source": [
    "#### <b>Third Step</b>.- Evaluate de Logistic Regression Model Precision"
   ]
  },
  {
   "cell_type": "code",
   "execution_count": 43,
   "metadata": {},
   "outputs": [
    {
     "data": {
      "text/plain": [
       "Text(0.5, 1.0, 'Precision-Recall curve: Average Precision = 0.74')"
      ]
     },
     "execution_count": 43,
     "metadata": {},
     "output_type": "execute_result"
    },
    {
     "data": {
      "image/png": "[encoded data removed]",
      "text/plain": [
       "<Figure size 432x288 with 1 Axes>"
      ]
     },
     "metadata": {
      "needs_background": "light"
     },
     "output_type": "display_data"
    }
   ],
   "source": [
    "# Plot the Precision-Recall Curve\n",
    "preds = pd.concat([y_train,predictionsBasedOnKFolds.loc[:,1]], axis=1)\n",
    "preds.columns = ['trueLabel','prediction']\n",
    "predictionsBasedOnKFoldsLogisticRegression = preds.copy()\n",
    "\n",
    "precision, recall, thresholds = precision_recall_curve(preds['trueLabel'],\n",
    "                                                       preds['prediction'])\n",
    "average_precision = average_precision_score(preds['trueLabel'],\n",
    "                                            preds['prediction'])\n",
    "\n",
    "plt.step(recall, precision, color='k', alpha=0.7, where='post')\n",
    "plt.fill_between(recall, precision, step='post', alpha=0.3, color='k')\n",
    "\n",
    "plt.xlabel('Recall')\n",
    "plt.ylabel('Precision')\n",
    "plt.ylim([0.0, 1.05])\n",
    "plt.xlim([0.0, 1.0])\n",
    "\n",
    "plt.title('Precision-Recall curve: Average Precision = {0:0.2f}'.format(\n",
    "          average_precision))\n"
   ]
  },
  {
   "cell_type": "code",
   "execution_count": 44,
   "metadata": {},
   "outputs": [
    {
     "data": {
      "image/png": "[encoded data removed]",
      "text/plain": [
       "<Figure size 432x288 with 1 Axes>"
      ]
     },
     "metadata": {
      "needs_background": "light"
     },
     "output_type": "display_data"
    }
   ],
   "source": [
    "# Plot the auROC (Reveiver Operating Characteristic)\n",
    "fpr, tpr, thresholds = roc_curve(preds['trueLabel'],preds['prediction'])\n",
    "areaUnderROC = auc(fpr, tpr)\n",
    "\n",
    "plt.figure()\n",
    "plt.plot(fpr, tpr, color='r', lw=2, label='ROC curve')\n",
    "plt.plot([0, 1], [0, 1], color='k', lw=2, linestyle='--')\n",
    "plt.xlim([0.0, 1.0])\n",
    "plt.ylim([0.0, 1.05])\n",
    "plt.xlabel('False Positive Rate')\n",
    "plt.ylabel('True Positive Rate')\n",
    "plt.title('Receiver operating characteristic: \\\n",
    "          Area under the curve = {0:0.2f}'.format(areaUnderROC))\n",
    "plt.legend(loc=\"lower right\")\n",
    "plt.show()"
   ]
  },
  {
   "cell_type": "markdown",
   "metadata": {},
   "source": [
    "## <b>Model N° 2</b>: Random Forests\n",
    "\n",
    "#### <b>First Step</b>.- Set hyperparameters"
   ]
  },
  {
   "cell_type": "code",
   "execution_count": 45,
   "metadata": {},
   "outputs": [],
   "source": [
    "n_estimators = 10 #numbers of trees\n",
    "max_features = 'auto'\n",
    "max_depth = None\n",
    "min_samples_split = 2\n",
    "min_samples_leaf = 1\n",
    "min_weight_fraction_leaf = 0.0\n",
    "max_leaf_nodes = None\n",
    "bootstrap = True\n",
    "oob_score = False\n",
    "n_jobs = -1\n",
    "random_state = 2018\n",
    "class_weight = 'balanced'\n",
    "\n",
    "RFC = RandomForestClassifier(n_estimators=n_estimators, \n",
    "        max_features=max_features, max_depth=max_depth,\n",
    "        min_samples_split=min_samples_split, min_samples_leaf=min_samples_leaf,\n",
    "        min_weight_fraction_leaf=min_weight_fraction_leaf, \n",
    "        max_leaf_nodes=max_leaf_nodes, bootstrap=bootstrap, \n",
    "        oob_score=oob_score, n_jobs=n_jobs, random_state=random_state, \n",
    "        class_weight=class_weight)"
   ]
  },
  {
   "cell_type": "markdown",
   "metadata": {},
   "source": [
    "#### <b>Second Step</b>.- Train the Model\n",
    "\n",
    "* K-fold cross-validation: 5 (4 for training and 1 for testing)"
   ]
  },
  {
   "cell_type": "code",
   "execution_count": 46,
   "metadata": {},
   "outputs": [
    {
     "name": "stdout",
     "output_type": "stream",
     "text": [
      "Training Log Loss:  0.0004570758747246713\n",
      "CV Log Loss:  0.009090797476425144\n",
      "Training Log Loss:  0.0004101805310493279\n",
      "CV Log Loss:  0.012640234648018377\n",
      "Training Log Loss:  0.00040027341363592047\n",
      "CV Log Loss:  0.009990776910341356\n",
      "Training Log Loss:  0.0003894650263288808\n",
      "CV Log Loss:  0.006620007375395402\n",
      "Training Log Loss:  0.0004291016183715201\n",
      "CV Log Loss:  0.01348243171548044\n",
      "Random Forests Log Loss:  0.010364849625132141\n"
     ]
    }
   ],
   "source": [
    "trainingScores = []\n",
    "cvScores = []\n",
    "predictionsBasedOnKFolds = pd.DataFrame(data=[],\n",
    "                                        index=y_train.index,columns=[0,1])\n",
    "\n",
    "model = RFC\n",
    "\n",
    "for train_index, cv_index in k_fold.split(np.zeros(len(X_train)),\n",
    "                                          y_train.ravel()):\n",
    "    X_train_fold, X_cv_fold = X_train.iloc[train_index,:], \\\n",
    "        X_train.iloc[cv_index,:]\n",
    "    y_train_fold, y_cv_fold = y_train.iloc[train_index], \\\n",
    "        y_train.iloc[cv_index]\n",
    "    \n",
    "    model.fit(X_train_fold, y_train_fold)\n",
    "    loglossTraining = log_loss(y_train_fold, \\\n",
    "                                model.predict_proba(X_train_fold)[:,1])\n",
    "    trainingScores.append(loglossTraining)\n",
    "    \n",
    "    predictionsBasedOnKFolds.loc[X_cv_fold.index,:] = \\\n",
    "        model.predict_proba(X_cv_fold)  \n",
    "    loglossCV = log_loss(y_cv_fold, \\\n",
    "        predictionsBasedOnKFolds.loc[X_cv_fold.index,1])\n",
    "    cvScores.append(loglossCV)\n",
    "    \n",
    "    print('Training Log Loss: ', loglossTraining)\n",
    "    print('CV Log Loss: ', loglossCV)\n",
    "    \n",
    "loglossRandomForestsClassifier = log_loss(y_train, \n",
    "                                          predictionsBasedOnKFolds.loc[:,1])\n",
    "print('Random Forests Log Loss: ', loglossRandomForestsClassifier)"
   ]
  },
  {
   "cell_type": "markdown",
   "metadata": {},
   "source": [
    "#### <b>Third Step</b>.- Evaluate the model"
   ]
  },
  {
   "cell_type": "code",
   "execution_count": 48,
   "metadata": {},
   "outputs": [
    {
     "data": {
      "text/plain": [
       "Text(0.5, 1.0, 'Precision-Recall curve: Average Precision = 0.79')"
      ]
     },
     "execution_count": 48,
     "metadata": {},
     "output_type": "execute_result"
    },
    {
     "data": {
      "image/png": "[encoded data removed]",
      "text/plain": [
       "<Figure size 432x288 with 1 Axes>"
      ]
     },
     "metadata": {
      "needs_background": "light"
     },
     "output_type": "display_data"
    }
   ],
   "source": [
    "# First with the Plot of Precision-Recall Curve\n",
    "preds = pd.concat([y_train,predictionsBasedOnKFolds.loc[:,1]], axis=1)\n",
    "preds.columns = ['trueLabel','prediction']\n",
    "predictionsBasedOnKFoldsRandomForests = preds.copy()\n",
    "\n",
    "precision, recall, thresholds = precision_recall_curve(preds['trueLabel'],\n",
    "                                                       preds['prediction'])\n",
    "average_precision = average_precision_score(preds['trueLabel'],\n",
    "                                            preds['prediction'])\n",
    "\n",
    "plt.step(recall, precision, color='k', alpha=0.7, where='post')\n",
    "plt.fill_between(recall, precision, step='post', alpha=0.3, color='k')\n",
    "\n",
    "plt.xlabel('Recall')\n",
    "plt.ylabel('Precision')\n",
    "plt.ylim([0.0, 1.05])\n",
    "plt.xlim([0.0, 1.0])\n",
    "\n",
    "plt.title('Precision-Recall curve: Average Precision = {0:0.2f}'.format(\n",
    "          average_precision))"
   ]
  },
  {
   "cell_type": "code",
   "execution_count": 49,
   "metadata": {},
   "outputs": [
    {
     "data": {
      "image/png": "[encoded data removed]",
      "text/plain": [
       "<Figure size 432x288 with 1 Axes>"
      ]
     },
     "metadata": {
      "needs_background": "light"
     },
     "output_type": "display_data"
    }
   ],
   "source": [
    "#  auROC plot\n",
    "fpr, tpr, thresholds = roc_curve(preds['trueLabel'],preds['prediction'])\n",
    "areaUnderROC = auc(fpr, tpr)\n",
    "\n",
    "plt.figure()\n",
    "plt.plot(fpr, tpr, color='r', lw=2, label='ROC curve')\n",
    "plt.plot([0, 1], [0, 1], color='k', lw=2, linestyle='--')\n",
    "plt.xlim([0.0, 1.0])\n",
    "plt.ylim([0.0, 1.05])\n",
    "plt.xlabel('False Positive Rate')\n",
    "plt.ylabel('True Positive Rate')\n",
    "plt.title('Receiver operating characteristic: \\\n",
    "          Area under the curve = {0:0.2f}'.format(\n",
    "          areaUnderROC))\n",
    "plt.legend(loc=\"lower right\")\n",
    "plt.show()"
   ]
  }
 ],
 "metadata": {
  "kernelspec": {
   "display_name": "Python 3.9.7 ('base')",
   "language": "python",
   "name": "python3"
  },
  "language_info": {
   "codemirror_mode": {
    "name": "ipython",
    "version": 3
   },
   "file_extension": ".py",
   "mimetype": "text/x-python",
   "name": "python",
   "nbconvert_exporter": "python",
   "pygments_lexer": "ipython3",
   "version": "3.9.7"
  },
  "orig_nbformat": 4,
  "vscode": {
   "interpreter": {
    "hash": "427b8541cfc07e6fbe7ab4a5298567b1b3022ff2b70fdb07d029f33f0434686a"
   }
  }
 },
 "nbformat": 4,
 "nbformat_minor": 2
}
